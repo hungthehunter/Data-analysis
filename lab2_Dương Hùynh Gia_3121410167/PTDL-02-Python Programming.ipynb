{
 "cells": [
  {
   "cell_type": "markdown",
   "id": "64ba89a9-2e63-44d6-87f2-699b076d36f7",
   "metadata": {},
   "source": [
    "# Python Programming"
   ]
  },
  {
   "cell_type": "markdown",
   "id": "72a2c8c2-995c-4e6d-a5eb-4f19b2109e6a",
   "metadata": {},
   "source": [
    "### Python Hello World\n"
   ]
  },
  {
   "cell_type": "code",
   "execution_count": 1,
   "id": "4f2bfca4-d545-45c9-b787-bef5487d1d2b",
   "metadata": {},
   "outputs": [
    {
     "name": "stdout",
     "output_type": "stream",
     "text": [
      "Hello World\n"
     ]
    }
   ],
   "source": [
    "print(\"Hello World\")"
   ]
  },
  {
   "cell_type": "markdown",
   "id": "24cbdc0c-7acf-422a-b588-087764127808",
   "metadata": {},
   "source": [
    "### Python Syntax"
   ]
  },
  {
   "cell_type": "code",
   "execution_count": 3,
   "id": "04100f23-81c8-44fb-a21d-4f22ae211d30",
   "metadata": {},
   "outputs": [
    {
     "name": "stdout",
     "output_type": "stream",
     "text": [
      "Pass\n"
     ]
    }
   ],
   "source": [
    "score = 80\n",
    "if score >=60 :\n",
    "    print(\"Pass\")"
   ]
  },
  {
   "cell_type": "markdown",
   "id": "c53294b7-d9b7-4f9c-959b-39b4ecd614c0",
   "metadata": {},
   "source": [
    "### Python Variables"
   ]
  },
  {
   "cell_type": "code",
   "execution_count": 13,
   "id": "07d8aee1-a729-4972-945a-ab264735b18f",
   "metadata": {},
   "outputs": [
    {
     "name": "stdout",
     "output_type": "stream",
     "text": [
      "Hello\n",
      "Hello\n",
      "Hello\n",
      "word: Hello\n",
      "x: 2\n",
      "y: 3\n"
     ]
    }
   ],
   "source": [
    "x = 2\n",
    "price = 2.5\n",
    "word = 'Hello'\n",
    "print(word)\n",
    "word = 'Hello'\n",
    "print(word)\n",
    "word = \"Hello\"\n",
    "print(word)\n",
    "word = '''Hello'''\n",
    "x = 2\n",
    "y = x + 1\n",
    "print(\"word:\", word)\n",
    "print(\"x:\", x)\n",
    "print(\"y:\", y)"
   ]
  },
  {
   "cell_type": "markdown",
   "id": "91775987-59ee-40c8-b725-ac10ec51e9b2",
   "metadata": {},
   "source": [
    "### Python_version()"
   ]
  },
  {
   "cell_type": "code",
   "execution_count": 7,
   "id": "51ca9336-3007-4645-aa06-1e60a8468721",
   "metadata": {},
   "outputs": [
    {
     "name": "stdout",
     "output_type": "stream",
     "text": [
      "Python Version: 3.13.5\n"
     ]
    }
   ],
   "source": [
    "from platform import python_version\n",
    "print(\"Python Version:\", python_version())"
   ]
  },
  {
   "cell_type": "markdown",
   "id": "d4d4ca09-29b7-4240-ae8a-cc73d9570f9b",
   "metadata": {},
   "source": [
    "### Python Data Types"
   ]
  },
  {
   "cell_type": "code",
   "execution_count": 11,
   "id": "6826c8a0-b3e3-48f1-aaee-789203384715",
   "metadata": {},
   "outputs": [
    {
     "name": "stdout",
     "output_type": "stream",
     "text": [
      "Hello World\n",
      "2\n",
      "2.5\n",
      "7j\n"
     ]
    }
   ],
   "source": [
    "x = \"Hello World\" #str\n",
    "print(x)\n",
    "x = 2             #int\n",
    "print(x)\n",
    "x = 2.5           #float\n",
    "print(x)\n",
    "x = 7j            #complex\n",
    "print(x)"
   ]
  },
  {
   "cell_type": "code",
   "execution_count": 15,
   "id": "ddf9924e-e54d-4e9b-9a8e-9bda51931fdc",
   "metadata": {},
   "outputs": [
    {
     "name": "stdout",
     "output_type": "stream",
     "text": [
      "['apple', 'banana', 'cherry']\n",
      "('apple', 'banana', 'cherry')\n",
      "range(0, 6)\n",
      "{'name': 'Tom', 'age': 20}\n",
      "{'apple', 'banana', 'cherry'}\n",
      "frozenset({'apple', 'cherry', 'banana'})\n"
     ]
    }
   ],
   "source": [
    "x = [\"apple\", \"banana\", \"cherry\"] #list\n",
    "print(x)\n",
    "x = (\"apple\", \"banana\", \"cherry\") #tuple\n",
    "print(x)\n",
    "x = range(6) #range\n",
    "print(x)\n",
    "x = {\"name\" : \"Tom\", \"age\" : 20} #dict\n",
    "print(x)\n",
    "x = {\"apple\", \"banana\", \"cherry\"} #set\n",
    "print(x)\n",
    "x = frozenset({\"apple\", \"banana\", \"cherry\"})\n",
    "print(x)\n",
    "#frozenset"
   ]
  },
  {
   "cell_type": "code",
   "execution_count": 16,
   "id": "af9fd1d4-37fa-4d18-a05e-dabf83e16403",
   "metadata": {},
   "outputs": [
    {
     "name": "stdout",
     "output_type": "stream",
     "text": [
      "True\n",
      "b'Hello'\n",
      "bytearray(b'\\x00\\x00\\x00\\x00\\x00')\n",
      "<memory at 0x0000022825C21900>\n",
      "None\n"
     ]
    }
   ],
   "source": [
    "x = True #bool\n",
    "print(x)\n",
    "x = b\"Hello\" #bytes\n",
    "print(x)\n",
    "x = bytearray(5) #bytearray\n",
    "print(x)\n",
    "x = memoryview(bytes(5)) #memoryview\n",
    "print(x)\n",
    "x = None #NoneType\n",
    "print(x)"
   ]
  },
  {
   "cell_type": "markdown",
   "id": "d3ea34a4-0b98-4ddf-9595-68fa025d7f35",
   "metadata": {},
   "source": [
    "### Python Casting"
   ]
  },
  {
   "cell_type": "code",
   "execution_count": 17,
   "id": "0c315b44-0a77-4ebf-88a4-ee2abaf837e5",
   "metadata": {},
   "outputs": [
    {
     "name": "stdout",
     "output_type": "stream",
     "text": [
      "3 <class 'str'>\n",
      "3 <class 'int'>\n",
      "3.0 <class 'float'>\n"
     ]
    }
   ],
   "source": [
    "x = str(3) # x will be '3'\n",
    "y = int(3) # y will be 3\n",
    "z = float(3) # z will be 3.0\n",
    "print(x, type(x))\n",
    "print(y, type(y))\n",
    "print(z, type(z))"
   ]
  },
  {
   "cell_type": "code",
   "execution_count": 18,
   "id": "c50e394a-d266-44fb-8036-44ead2551cfb",
   "metadata": {},
   "outputs": [
    {
     "name": "stdout",
     "output_type": "stream",
     "text": [
      "2 <class 'int'>\n",
      "3.4 <class 'float'>\n",
      "7j <class 'complex'>\n"
     ]
    }
   ],
   "source": [
    "x = 2 # int\n",
    "y = 3.4 # float\n",
    "z = 7j #complex\n",
    "print(x, type(x))\n",
    "print(y, type(y))\n",
    "print(z, type(z))"
   ]
  },
  {
   "cell_type": "markdown",
   "id": "daa80715-e382-4c99-83db-a084d532f4df",
   "metadata": {},
   "source": [
    "### Python Basic Operators"
   ]
  },
  {
   "cell_type": "code",
   "execution_count": 19,
   "id": "68cb4464-5de2-4682-8d1c-b0d7933195b3",
   "metadata": {},
   "outputs": [
    {
     "name": "stdout",
     "output_type": "stream",
     "text": [
      "7 + 2 = 9\n",
      "7 - 2 = 5\n",
      "7 * 2 = 14\n",
      "7 / 2 = 3.5\n",
      "7 // 2 = 3\n",
      "7 % 2 = 1\n",
      "7 ** 2 = 49\n"
     ]
    }
   ],
   "source": [
    "print('7 + 2 =', 7 + 2)\n",
    "print('7 - 2 =', 7 - 2)\n",
    "print('7 * 2 =', 7 * 2)\n",
    "print('7 / 2 =', 7 / 2)\n",
    "print('7 // 2 =', 7 // 2)\n",
    "print('7 % 2 =', 7 % 2)\n",
    "print('7 ** 2 =', 7 ** 2)"
   ]
  },
  {
   "cell_type": "markdown",
   "id": "9a3e6d5d-c427-4b1d-bb58-2b698386b0c3",
   "metadata": {},
   "source": [
    "### Python Booleans: True or False"
   ]
  },
  {
   "cell_type": "code",
   "execution_count": 20,
   "id": "c2471ef9-1f92-4518-bee2-6ac5869c7169",
   "metadata": {},
   "outputs": [
    {
     "name": "stdout",
     "output_type": "stream",
     "text": [
      "True\n",
      "False\n",
      "False\n"
     ]
    }
   ],
   "source": [
    "# Python Booleans: True or False\n",
    "print(3 > 2)\n",
    "print(3 == 2)\n",
    "print(3 < 2)"
   ]
  },
  {
   "cell_type": "markdown",
   "id": "f1838ad2-b7db-469c-bc36-504afc4abdfd",
   "metadata": {},
   "source": [
    "### Python BMI Calculator"
   ]
  },
  {
   "cell_type": "code",
   "execution_count": 21,
   "id": "8d92ffd9-9984-48ec-aed5-b5ff8bf35088",
   "metadata": {},
   "outputs": [
    {
     "name": "stdout",
     "output_type": "stream",
     "text": [
      "Your BMI is: 20.8\n"
     ]
    }
   ],
   "source": [
    "# BMI Calculator in Python\n",
    "height_cm = 170\n",
    "weight_kg = 60\n",
    "height_m = height_cm/100\n",
    "BMI = (weight_kg/(height_m**2))\n",
    "\n",
    "print(\"Your BMI is: \" + str(round(BMI,1)))"
   ]
  },
  {
   "cell_type": "markdown",
   "id": "20119ac6-4001-45dc-92d0-db2b23b2e21b",
   "metadata": {},
   "source": [
    "## Future value of a specified principal amount, rate of interest, and a number of years"
   ]
  },
  {
   "cell_type": "markdown",
   "id": "b29cee20-82ab-44a5-bb5d-ba24af623876",
   "metadata": {},
   "source": [
    "### How much is your $100 worth after 7 years?"
   ]
  },
  {
   "cell_type": "code",
   "execution_count": 23,
   "id": "875c3076-9ae0-4f32-94e5-5947f66ded92",
   "metadata": {},
   "outputs": [
    {
     "name": "stdout",
     "output_type": "stream",
     "text": [
      "fv =  194.87\n"
     ]
    }
   ],
   "source": [
    "# How much is your $100 worth after 7 years?\n",
    "fv = 100 * 1.1 ** 7\n",
    "print('fv = ', round(fv, 2))\n",
    "# output = 194.87"
   ]
  },
  {
   "cell_type": "markdown",
   "id": "d87e7cf6-bf8f-4fe3-856b-01df1436256c",
   "metadata": {},
   "source": [
    "### Future Value"
   ]
  },
  {
   "cell_type": "code",
   "execution_count": 24,
   "id": "97ed742a-75a4-426c-ac6e-0db0d0fd05ef",
   "metadata": {},
   "outputs": [
    {
     "name": "stdout",
     "output_type": "stream",
     "text": [
      "194.87\n"
     ]
    }
   ],
   "source": [
    "# Future Value\n",
    "pv = 100\n",
    "r = 0.1\n",
    "n = 7\n",
    "fv = pv * ((1 + (r)) ** n)\n",
    "print(round(fv, 2))"
   ]
  },
  {
   "cell_type": "code",
   "execution_count": 25,
   "id": "0ce9854e-d396-41c5-9f3d-643830e6ef2d",
   "metadata": {},
   "outputs": [
    {
     "name": "stdout",
     "output_type": "stream",
     "text": [
      "194.87\n"
     ]
    }
   ],
   "source": [
    "# Future Value\n",
    "amount = 100\n",
    "interest = 10 #10% = 0.01 * 10\n",
    "years = 7\n",
    "\n",
    "future_value = amount * ((1 + (0.01 * interest)) ** years)\n",
    "print(round(future_value, 2))"
   ]
  },
  {
   "cell_type": "markdown",
   "id": "acd65787-58c1-4abb-8018-4a5d533f487c",
   "metadata": {},
   "source": [
    "## Python Data Structures"
   ]
  },
  {
   "cell_type": "markdown",
   "id": "2a8ee9e5-ddf6-4ef6-8f91-2510bd5e3a1f",
   "metadata": {},
   "source": [
    "### Python Data Types"
   ]
  },
  {
   "cell_type": "code",
   "execution_count": 26,
   "id": "99af3cfe-ac5d-4841-a56d-53a9f1fc9f67",
   "metadata": {},
   "outputs": [
    {
     "name": "stdout",
     "output_type": "stream",
     "text": [
      "['apple', 'banana', 'cherry']\n",
      "('apple', 'banana', 'cherry')\n",
      "{'name': 'Tom', 'age': 20}\n",
      "{'apple', 'cherry', 'banana'}\n"
     ]
    }
   ],
   "source": [
    "x = [\"apple\", \"banana\", \"cherry\"] #list\n",
    "print(x)\n",
    "x = (\"apple\", \"banana\", \"cherry\") #tuple\n",
    "print(x)\n",
    "x = {\"name\" : \"Tom\", \"age\" : 20} #dict\n",
    "print(x)\n",
    "x = {\"apple\", \"banana\", \"cherry\"} #set\n",
    "print(x)"
   ]
  },
  {
   "cell_type": "markdown",
   "id": "15df3b77-116f-4ea2-aa66-c9380cd7532e",
   "metadata": {},
   "source": [
    "### Lists []"
   ]
  },
  {
   "cell_type": "code",
   "execution_count": 27,
   "id": "f44c81ab-71bc-4115-8879-19c3c3d45f10",
   "metadata": {},
   "outputs": [
    {
     "name": "stdout",
     "output_type": "stream",
     "text": [
      "4\n",
      "60\n",
      "70\n",
      "90\n"
     ]
    }
   ],
   "source": [
    "x = [60, 70, 80, 90]\n",
    "print(len(x))\n",
    "print(x[0])\n",
    "print(x[1])\n",
    "print(x[-1])"
   ]
  },
  {
   "cell_type": "markdown",
   "id": "07bf04e7-6d96-4d6e-9877-fd218e3e51ff",
   "metadata": {},
   "source": [
    "### Tuples ()"
   ]
  },
  {
   "cell_type": "code",
   "execution_count": 28,
   "id": "a3fdcea7-47e5-49c5-97cb-981923871349",
   "metadata": {},
   "outputs": [
    {
     "name": "stdout",
     "output_type": "stream",
     "text": [
      "10\n",
      "20\n",
      "30\n",
      "50\n"
     ]
    }
   ],
   "source": [
    "x = (10, 20, 30, 40, 50)\n",
    "print(x[0])\n",
    "print(x[1])\n",
    "print(x[2])\n",
    "print(x[-1])"
   ]
  },
  {
   "cell_type": "markdown",
   "id": "ef30c7a8-460a-4bce-a31c-bb482f69bcc2",
   "metadata": {},
   "source": [
    "### Sets {}"
   ]
  },
  {
   "cell_type": "code",
   "execution_count": 30,
   "id": "2d95292c-12a1-4674-bcc6-40476c742782",
   "metadata": {},
   "outputs": [
    {
     "name": "stdout",
     "output_type": "stream",
     "text": [
      "True\n",
      "False\n",
      "True\n",
      "3\n",
      "3\n",
      "2\n"
     ]
    }
   ],
   "source": [
    "animals = {'cat', 'dog'}\n",
    "print('cat' in animals)\n",
    "print('fish' in animals)\n",
    "animals.add('fish')\n",
    "print('fish' in animals)\n",
    "print(len(animals))\n",
    "animals.add('cat')\n",
    "print(len(animals))\n",
    "animals.remove('cat')\n",
    "print(len(animals))"
   ]
  },
  {
   "cell_type": "markdown",
   "id": "8a2e7350-0d67-4c10-a49f-0c015e28d48c",
   "metadata": {},
   "source": [
    "### Dictionary {key : value}"
   ]
  },
  {
   "cell_type": "code",
   "execution_count": 31,
   "id": "52532a33-d1a0-46a2-8254-b5cfd77e76c6",
   "metadata": {},
   "outputs": [
    {
     "name": "stdout",
     "output_type": "stream",
     "text": [
      "English\n"
     ]
    }
   ],
   "source": [
    "k = { 'EN':'English','FR':'French' }\n",
    "print(k['EN'])"
   ]
  },
  {
   "cell_type": "markdown",
   "id": "c31c4703-7d3e-47dd-a02c-c95c3c8e092b",
   "metadata": {},
   "source": [
    "### Python Data Structures"
   ]
  },
  {
   "cell_type": "code",
   "execution_count": 34,
   "id": "c3b1f6a5-8b43-4474-955d-4ad433d039a6",
   "metadata": {},
   "outputs": [
    {
     "name": "stdout",
     "output_type": "stream",
     "text": [
      "['apple', 'banana', 'cherry']\n",
      "('red', 'green', 'blue')\n",
      "{'cat', 'dog'}\n",
      "{'name': 'Tom', 'age': 20}\n"
     ]
    }
   ],
   "source": [
    "fruits = [\"apple\", \"banana\", \"cherry\"] #lists []\n",
    "print(fruits)\n",
    "colors = (\"red\", \"green\", \"blue\") #tuples ()\n",
    "print(colors)\n",
    "animals = {'cat', 'dog'} #sets {}\n",
    "print(animals)\n",
    "person = {\"name\" : \"Tom\", \"age\" : 20} #dictionaries {}\n",
    "print(person)"
   ]
  },
  {
   "cell_type": "markdown",
   "id": "b35c8f27-3ba3-4dd6-93fc-8b8ff1492db1",
   "metadata": {},
   "source": [
    "### Python for Finance Applications"
   ]
  },
  {
   "cell_type": "code",
   "execution_count": 35,
   "id": "b936bf57-008f-449a-9dcd-3b118ab613e5",
   "metadata": {},
   "outputs": [
    {
     "name": "stdout",
     "output_type": "stream",
     "text": [
      "Total expenses: 293.5\n"
     ]
    }
   ],
   "source": [
    "expenses = [72.50, 80.75, 50.00, 90.25]\n",
    "total_expenses = sum(expenses)\n",
    "print(\"Total expenses:\", total_expenses)"
   ]
  },
  {
   "cell_type": "code",
   "execution_count": 37,
   "id": "30594e65-7009-4891-b192-af5d7fb0af30",
   "metadata": {},
   "outputs": [
    {
     "name": "stdout",
     "output_type": "stream",
     "text": [
      "Account name: Cash Account number: 1001\n",
      "Account name: Accounts Receivable Account number: 1002\n",
      "Account name: Inventory Account number: 1003\n"
     ]
    }
   ],
   "source": [
    "# Python Tuples\n",
    "accounts = ((\"Cash\", 1001), (\"Accounts Receivable\", 1002),\n",
    "(\"Inventory\", 1003))\n",
    "for account in accounts:\n",
    "    print(\"Account name:\", account[0], \"Account number:\", account[1])"
   ]
  },
  {
   "cell_type": "code",
   "execution_count": 38,
   "id": "a9a56155-0e73-42a1-bc25-905ab479004e",
   "metadata": {},
   "outputs": [
    {
     "name": "stdout",
     "output_type": "stream",
     "text": [
      "Account number 1004 is not in use.\n"
     ]
    }
   ],
   "source": [
    "# Python Sets\n",
    "account_numbers = {1001, 1002, 1003}\n",
    "new_account_number = 1004\n",
    "if new_account_number not in account_numbers:\n",
    "    print(\"Account number\", new_account_number, \"is not in use.\")"
   ]
  },
  {
   "cell_type": "code",
   "execution_count": 39,
   "id": "1154b3c7-29b0-4b28-a0e2-00658760cbc8",
   "metadata": {},
   "outputs": [
    {
     "name": "stdout",
     "output_type": "stream",
     "text": [
      "Account number: 1001\n",
      "Account name: Cash\n",
      "Account balance: 500.0\n",
      "Account type: Asset\n",
      "Account number: 1002\n",
      "Account name: Accounts Receivable\n",
      "Account balance: 1000.0\n",
      "Account type: Asset\n",
      "Account number: 2001\n",
      "Account name: Accounts Payable\n",
      "Account balance: 750.0\n",
      "Account type: Liability\n"
     ]
    }
   ],
   "source": [
    "# Python Dictionaries\n",
    "accounts = {\"1001\": {\"name\": \"Cash\", \"balance\": 500.00, \"type\": \"Asset\"},\n",
    "\"1002\": {\"name\": \"Accounts Receivable\", \"balance\": 1000.00, \"type\": \"Asset\"},\n",
    "\"2001\": {\"name\": \"Accounts Payable\", \"balance\": 750.00, \"type\": \"Liability\"}}\n",
    "for account_number, account_info in accounts.items():\n",
    "    print(\"Account number:\", account_number)\n",
    "    print(\"Account name:\", account_info[\"name\"])\n",
    "    print(\"Account balance:\", account_info[\"balance\"])\n",
    "    print(\"Account type:\", account_info[\"type\"])"
   ]
  },
  {
   "cell_type": "markdown",
   "id": "05c7e6f9-fb51-4846-a0af-b4f819e9bf97",
   "metadata": {},
   "source": [
    "## Python Control Logic and Loops"
   ]
  },
  {
   "cell_type": "markdown",
   "id": "812d3e55-52cd-4e1b-9bce-84f52340109b",
   "metadata": {},
   "source": [
    "### Python if"
   ]
  },
  {
   "cell_type": "code",
   "execution_count": 40,
   "id": "e7a7ce36-1370-484a-b5ec-aeef3ee6fff7",
   "metadata": {},
   "outputs": [
    {
     "name": "stdout",
     "output_type": "stream",
     "text": [
      "Pass\n"
     ]
    }
   ],
   "source": [
    "score = 80\n",
    "if score >=60 :\n",
    "    print(\"Pass\")"
   ]
  },
  {
   "cell_type": "markdown",
   "id": "dd6844f7-41b4-4ee1-9803-b87dd6eadee6",
   "metadata": {},
   "source": [
    "### Python if else"
   ]
  },
  {
   "cell_type": "code",
   "execution_count": 41,
   "id": "79c36240-e37e-48a1-a481-de8e18a5bcac",
   "metadata": {},
   "outputs": [
    {
     "name": "stdout",
     "output_type": "stream",
     "text": [
      "Pass\n"
     ]
    }
   ],
   "source": [
    "score = 80\n",
    "if score >=60 :\n",
    "    print(\"Pass\")\n",
    "else:\n",
    "    print(\"Fail\")"
   ]
  },
  {
   "cell_type": "markdown",
   "id": "3c3fd1e2-7ef6-4735-a861-baeabf15cf73",
   "metadata": {},
   "source": [
    "### Python if elif else"
   ]
  },
  {
   "cell_type": "code",
   "execution_count": 42,
   "id": "656e7b01-8736-4131-a9aa-e8a3f3f12cbd",
   "metadata": {},
   "outputs": [
    {
     "name": "stdout",
     "output_type": "stream",
     "text": [
      "A\n"
     ]
    }
   ],
   "source": [
    "score = 95\n",
    "if score >= 90 :\n",
    "    print(\"A\")\n",
    "elif score >=60 :\n",
    "    print(\"Pass\")\n",
    "else:\n",
    "    print(\"Fail\")"
   ]
  },
  {
   "cell_type": "code",
   "execution_count": 43,
   "id": "5b7cdf46-2867-420f-a7bb-056a7a91aefb",
   "metadata": {},
   "outputs": [
    {
     "name": "stdout",
     "output_type": "stream",
     "text": [
      "A\n"
     ]
    }
   ],
   "source": [
    "score = 90\n",
    "grade = \"\"\n",
    "if score >=90:\n",
    "    grade = \"A\"\n",
    "elif score >= 80:\n",
    "    grade = \"B\"\n",
    "elif score >= 70:\n",
    "    grade = \"C\"\n",
    "elif score >= 60:\n",
    "    grade = \"D\"\n",
    "else:\n",
    "    grade = \"E\"\n",
    "print(grade)"
   ]
  },
  {
   "cell_type": "markdown",
   "id": "7697715e-cc55-457e-90ba-2aadf75c6658",
   "metadata": {},
   "source": [
    "### Python for Loops"
   ]
  },
  {
   "cell_type": "code",
   "execution_count": 44,
   "id": "ef9b36d2-b412-4a48-8079-0465a9221410",
   "metadata": {},
   "outputs": [
    {
     "name": "stdout",
     "output_type": "stream",
     "text": [
      "1\n",
      "2\n",
      "3\n",
      "4\n",
      "5\n"
     ]
    }
   ],
   "source": [
    "for i in range(1,6):\n",
    "    print(i)"
   ]
  },
  {
   "cell_type": "code",
   "execution_count": 46,
   "id": "010ea96a-38d5-4646-89d3-84a8e3eb18ea",
   "metadata": {},
   "outputs": [
    {
     "name": "stdout",
     "output_type": "stream",
     "text": [
      "1  *  1  =  1\n",
      "1  *  2  =  2\n",
      "1  *  3  =  3\n",
      "1  *  4  =  4\n",
      "1  *  5  =  5\n",
      "1  *  6  =  6\n",
      "1  *  7  =  7\n",
      "1  *  8  =  8\n",
      "1  *  9  =  9\n",
      "2  *  1  =  2\n",
      "2  *  2  =  4\n",
      "2  *  3  =  6\n",
      "2  *  4  =  8\n",
      "2  *  5  =  10\n",
      "2  *  6  =  12\n",
      "2  *  7  =  14\n",
      "2  *  8  =  16\n",
      "2  *  9  =  18\n",
      "3  *  1  =  3\n",
      "3  *  2  =  6\n",
      "3  *  3  =  9\n",
      "3  *  4  =  12\n",
      "3  *  5  =  15\n",
      "3  *  6  =  18\n",
      "3  *  7  =  21\n",
      "3  *  8  =  24\n",
      "3  *  9  =  27\n",
      "4  *  1  =  4\n",
      "4  *  2  =  8\n",
      "4  *  3  =  12\n",
      "4  *  4  =  16\n",
      "4  *  5  =  20\n",
      "4  *  6  =  24\n",
      "4  *  7  =  28\n",
      "4  *  8  =  32\n",
      "4  *  9  =  36\n",
      "5  *  1  =  5\n",
      "5  *  2  =  10\n",
      "5  *  3  =  15\n",
      "5  *  4  =  20\n",
      "5  *  5  =  25\n",
      "5  *  6  =  30\n",
      "5  *  7  =  35\n",
      "5  *  8  =  40\n",
      "5  *  9  =  45\n",
      "6  *  1  =  6\n",
      "6  *  2  =  12\n",
      "6  *  3  =  18\n",
      "6  *  4  =  24\n",
      "6  *  5  =  30\n",
      "6  *  6  =  36\n",
      "6  *  7  =  42\n",
      "6  *  8  =  48\n",
      "6  *  9  =  54\n",
      "7  *  1  =  7\n",
      "7  *  2  =  14\n",
      "7  *  3  =  21\n",
      "7  *  4  =  28\n",
      "7  *  5  =  35\n",
      "7  *  6  =  42\n",
      "7  *  7  =  49\n",
      "7  *  8  =  56\n",
      "7  *  9  =  63\n",
      "8  *  1  =  8\n",
      "8  *  2  =  16\n",
      "8  *  3  =  24\n",
      "8  *  4  =  32\n",
      "8  *  5  =  40\n",
      "8  *  6  =  48\n",
      "8  *  7  =  56\n",
      "8  *  8  =  64\n",
      "8  *  9  =  72\n",
      "9  *  1  =  9\n",
      "9  *  2  =  18\n",
      "9  *  3  =  27\n",
      "9  *  4  =  36\n",
      "9  *  5  =  45\n",
      "9  *  6  =  54\n",
      "9  *  7  =  63\n",
      "9  *  8  =  72\n",
      "9  *  9  =  81\n"
     ]
    }
   ],
   "source": [
    "for i in range(1,10):\n",
    "    for j in range(1,10):\n",
    "        print(i, ' * ' , j , ' = ', i*j)"
   ]
  },
  {
   "cell_type": "markdown",
   "id": "50408746-b62d-4870-816c-62e214f8c74e",
   "metadata": {},
   "source": [
    "### Python while loops"
   ]
  },
  {
   "cell_type": "code",
   "execution_count": 47,
   "id": "fa867db2-5601-4a20-8224-fd00a67dc059",
   "metadata": {},
   "outputs": [
    {
     "name": "stdout",
     "output_type": "stream",
     "text": [
      "10\n",
      "11\n",
      "12\n",
      "13\n",
      "14\n",
      "15\n",
      "16\n",
      "17\n",
      "18\n",
      "19\n"
     ]
    }
   ],
   "source": [
    "age = 10\n",
    "while age < 20:\n",
    "    print(age)\n",
    "    age = age + 1"
   ]
  },
  {
   "cell_type": "markdown",
   "id": "d40fa4ed-2e34-4341-a643-579d225d2f8e",
   "metadata": {},
   "source": [
    "## Python Functions"
   ]
  },
  {
   "cell_type": "markdown",
   "id": "bdff8609-cb13-4e3e-a783-64d3eda27b79",
   "metadata": {},
   "source": [
    "### Python Function def"
   ]
  },
  {
   "cell_type": "code",
   "execution_count": 48,
   "id": "1e2bd2af-cd0c-4760-bb7d-1423e1e8c986",
   "metadata": {},
   "outputs": [
    {
     "name": "stdout",
     "output_type": "stream",
     "text": [
      "194.87\n"
     ]
    }
   ],
   "source": [
    "def getfv(pv, r, n):\n",
    "    fv = pv * ((1 + (r)) ** n)\n",
    "    return fv\n",
    "fv = getfv(100, 0.1, 7)\n",
    "print(round(fv, 2))"
   ]
  },
  {
   "cell_type": "markdown",
   "id": "211f69c5-620b-44f9-9092-2675bc85e48d",
   "metadata": {},
   "source": [
    "## Python Classes/Objects"
   ]
  },
  {
   "cell_type": "markdown",
   "id": "7d20711b-6028-4103-9627-6e746cf0e168",
   "metadata": {},
   "source": [
    "### class MyClass:"
   ]
  },
  {
   "cell_type": "code",
   "execution_count": 50,
   "id": "398cd837-3eb4-4453-adf6-9c8783bb2f91",
   "metadata": {},
   "outputs": [
    {
     "name": "stdout",
     "output_type": "stream",
     "text": [
      "5\n"
     ]
    }
   ],
   "source": [
    "class MyClass:\n",
    "    x = 5\n",
    "c1 = MyClass()\n",
    "print(c1.x)"
   ]
  },
  {
   "cell_type": "code",
   "execution_count": 52,
   "id": "9b25f35f-41b5-4b6b-b980-38a5dce1d688",
   "metadata": {},
   "outputs": [
    {
     "name": "stdout",
     "output_type": "stream",
     "text": [
      "Alan\n",
      "20\n"
     ]
    }
   ],
   "source": [
    "class Person:\n",
    "    def __init__(self, name, age):\n",
    "     self.name = name\n",
    "     self.age = age\n",
    "p1 = Person(\"Alan\", 20)\n",
    "print(p1.name)\n",
    "print(p1.age)"
   ]
  },
  {
   "cell_type": "code",
   "execution_count": 53,
   "id": "a06fbd45-1cb1-48d0-86a3-feffaf9eb4a3",
   "metadata": {},
   "outputs": [
    {
     "name": "stdout",
     "output_type": "stream",
     "text": [
      "Hello my name is Alan\n"
     ]
    }
   ],
   "source": [
    "class Person:\n",
    "    def __init__(self, name, age):\n",
    "        self.name = name\n",
    "        self.age = age\n",
    "        \n",
    "    def myfunc(self):\n",
    "        print(\"Hello my name is \" + self.name)\n",
    "        \n",
    "p1 = Person(\"Alan\", 20)\n",
    "p1.myfunc()"
   ]
  },
  {
   "cell_type": "code",
   "execution_count": 54,
   "id": "df4bd0ee-badc-4ca1-95d3-0c40f0e61550",
   "metadata": {},
   "outputs": [
    {
     "name": "stdout",
     "output_type": "stream",
     "text": [
      "Hello my name is Alan\n",
      "Alan\n",
      "20\n"
     ]
    }
   ],
   "source": [
    "class Person:\n",
    "    def __init__(self, name, age):\n",
    "        self.name = name\n",
    "        self.age = age\n",
    "        \n",
    "    def myfunc(self):\n",
    "        print(\"Hello my name is \" + self.name)\n",
    "        \n",
    "p1 = Person(\"Alan\", 20)\n",
    "p1.myfunc()\n",
    "print(p1.name)\n",
    "print(p1.age)"
   ]
  },
  {
   "cell_type": "markdown",
   "id": "d0a772d8-aecf-4105-9806-c5d022324d96",
   "metadata": {},
   "source": [
    "### Python Classes and Obects"
   ]
  },
  {
   "cell_type": "code",
   "execution_count": 57,
   "id": "6da26d69-40c2-4165-8b64-ad34091c798f",
   "metadata": {},
   "outputs": [],
   "source": [
    "class Vehicle:\n",
    "    name = \"\"\n",
    "    kind = \"car\"\n",
    "    color = \"\"\n",
    "    value = 100.00\n",
    "    def description(self):\n",
    "        desc_str = \"%s is a %s %s worth $%.2f.\" %(self.name, self.color, self.kind, self.value)\n",
    "        return desc_str"
   ]
  },
  {
   "cell_type": "code",
   "execution_count": 58,
   "id": "0f398d3b-a8e7-4db8-8991-7f6bf32b51d4",
   "metadata": {},
   "outputs": [
    {
     "name": "stdout",
     "output_type": "stream",
     "text": [
      "Fer is a red convertible worth $60000.00.\n",
      "Fer\n",
      "Jump is a blue van worth $10000.00.\n",
      "Jump\n"
     ]
    }
   ],
   "source": [
    "car1 = Vehicle()\n",
    "car1.name = \"Fer\"\n",
    "car1.color = \"red\"\n",
    "car1.kind = \"convertible\"\n",
    "car1.value = 60000.00\n",
    "\n",
    "car2 = Vehicle()\n",
    "car2.name = \"Jump\"\n",
    "car2.color = \"blue\"\n",
    "car2.kind = \"van\"\n",
    "car2.value = 10000.00\n",
    "\n",
    "print(car1.description())\n",
    "print(car1.name)\n",
    "print(car2.description())\n",
    "print(car2.name)"
   ]
  },
  {
   "cell_type": "markdown",
   "id": "97e6a49b-b187-4fe5-aecf-fb5ea156b586",
   "metadata": {},
   "source": [
    "## Python Modules"
   ]
  },
  {
   "cell_type": "markdown",
   "id": "7c478821-4ef8-4a4b-850d-692fdb2da626",
   "metadata": {},
   "source": [
    "### Python Modules"
   ]
  },
  {
   "cell_type": "code",
   "execution_count": 66,
   "id": "71034411-8b7a-4460-8a12-ba4a1f2a975a",
   "metadata": {},
   "outputs": [],
   "source": [
    "# mymodule.py\n",
    "def greeting(name):\n",
    "    print(\"Hello, \" + name)"
   ]
  },
  {
   "cell_type": "code",
   "execution_count": null,
   "id": "f56aa401-6e89-4420-aa68-d8769f0cd342",
   "metadata": {},
   "outputs": [],
   "source": [
    "import mymodule\n",
    "mymodule.greeting(\"Alan\")"
   ]
  },
  {
   "cell_type": "markdown",
   "id": "b53d09b6-ba95-4ae3-9969-eb260ad837fd",
   "metadata": {},
   "source": [
    "### Python File Input / Output"
   ]
  },
  {
   "cell_type": "code",
   "execution_count": 69,
   "id": "8416f794-1c8a-41df-a749-d2b4d27428ca",
   "metadata": {},
   "outputs": [
    {
     "name": "stdout",
     "output_type": "stream",
     "text": [
      "Hello World\n",
      "This is Python File Input Output\n"
     ]
    }
   ],
   "source": [
    "with open('myfile.txt', 'w') as file:\n",
    "    file.write('Hello World\\nThis is Python File Input Output')\n",
    "with open('myfile.txt', 'r') as file:\n",
    "    text = file.read()\n",
    "    print(text)"
   ]
  },
  {
   "cell_type": "code",
   "execution_count": 70,
   "id": "f99f6946-2068-4814-95e9-8904e29cf59d",
   "metadata": {},
   "outputs": [
    {
     "name": "stdout",
     "output_type": "stream",
     "text": [
      "mymodule.py\n",
      "def greeting(name):\n",
      "    print(\"Hello, \" + name)\n",
      "    \n"
     ]
    }
   ],
   "source": [
    "filename = 'mymodule.py'\n",
    "with open(filename, 'w') as file:\n",
    "    text = '''def greeting(name):\n",
    "    print(\"Hello, \" + name)\n",
    "    '''\n",
    "    file.write(text)\n",
    "with open(filename, 'r') as file:\n",
    "    text = file.read()\n",
    "\n",
    "print(filename)\n",
    "print(text)"
   ]
  },
  {
   "cell_type": "markdown",
   "id": "aff09579-1f59-44d5-ab98-ebb402ea294d",
   "metadata": {},
   "source": [
    "### Python main() function"
   ]
  },
  {
   "cell_type": "code",
   "execution_count": 71,
   "id": "81274b72-fcd6-4048-bbb9-9b239fd378cd",
   "metadata": {},
   "outputs": [
    {
     "name": "stdout",
     "output_type": "stream",
     "text": [
      "Hello World!\n"
     ]
    }
   ],
   "source": [
    "def main():\n",
    "    print(\"Hello World!\")\n",
    "if __name__ == \"__main__\":\n",
    "    main()"
   ]
  },
  {
   "cell_type": "markdown",
   "id": "999341ae-7ffe-48cc-9eba-04632aba86c0",
   "metadata": {},
   "source": [
    "## Files and Exception Handling"
   ]
  },
  {
   "cell_type": "markdown",
   "id": "71149b42-7209-4d09-a622-dc67f59c17c1",
   "metadata": {},
   "source": [
    "### Python Files (File Handling)"
   ]
  },
  {
   "cell_type": "code",
   "execution_count": 72,
   "id": "bd1b8221-c181-459a-b1f0-16a353f210ca",
   "metadata": {},
   "outputs": [
    {
     "name": "stdout",
     "output_type": "stream",
     "text": [
      "Hello World\n"
     ]
    }
   ],
   "source": [
    "f = open(\"myfile.txt\", \"w\")\n",
    "f.write(\"Hello World\")\n",
    "f.close()\n",
    "f = open(\"myfile.txt\", \"r\")\n",
    "text = f.read()\n",
    "print(text)\n",
    "f.close()"
   ]
  },
  {
   "cell_type": "code",
   "execution_count": 73,
   "id": "0fa420fd-3533-4c61-8f60-efa27f0b18a5",
   "metadata": {},
   "outputs": [
    {
     "name": "stdout",
     "output_type": "stream",
     "text": [
      "Hello World\n"
     ]
    }
   ],
   "source": [
    "with open('myfile.txt', 'w') as file:\n",
    "    file.write('Hello World')\n",
    "with open('myfile.txt', 'r') as file:\n",
    "    text = file.read()\n",
    "print(text)"
   ]
  },
  {
   "cell_type": "markdown",
   "id": "b11e02e9-8a9d-47b5-825d-26c04aefa29f",
   "metadata": {},
   "source": [
    "### Python Files"
   ]
  },
  {
   "cell_type": "code",
   "execution_count": 74,
   "id": "b30b01c1-76b6-4206-bf01-abfe36d0579d",
   "metadata": {},
   "outputs": [
    {
     "name": "stdout",
     "output_type": "stream",
     "text": [
      "Hello World\n",
      "Python File IO\n"
     ]
    }
   ],
   "source": [
    "with open('myfile.txt', 'w') as file:\n",
    "    file.write('Hello World\\nPython File IO')\n",
    "with open('myfile.txt', 'r') as file:\n",
    "    text = file.read()\n",
    "\n",
    "print(text)"
   ]
  },
  {
   "cell_type": "code",
   "execution_count": 75,
   "id": "89ebe9fd-522e-413e-a93a-949c58416d68",
   "metadata": {},
   "outputs": [
    {
     "name": "stdout",
     "output_type": "stream",
     "text": [
      "Hello World\n",
      "Python File IO\n",
      "New line\n"
     ]
    }
   ],
   "source": [
    "with open('myfile.txt', 'a+') as file:\n",
    "    file.write('\\n' + 'New line')\n",
    "with open('myfile.txt', 'r') as file:\n",
    "    text = file.read()\n",
    "print(text)"
   ]
  },
  {
   "cell_type": "code",
   "execution_count": 78,
   "id": "c671ca81-cfbb-4313-9038-c82a89b27ab9",
   "metadata": {},
   "outputs": [
    {
     "name": "stdout",
     "output_type": "stream",
     "text": [
      "D:\\ai_practice_prj\\lesson2\n"
     ]
    }
   ],
   "source": [
    "import os\n",
    "\n",
    "cwd = os.getcwd()\n",
    "print(cwd)"
   ]
  },
  {
   "cell_type": "code",
   "execution_count": 79,
   "id": "18e25822-b017-48a1-adbf-2c7b7ffbf573",
   "metadata": {},
   "outputs": [
    {
     "data": {
      "text/plain": [
       "['.ipynb_checkpoints',\n",
       " '01_python_basic_code.ipynb',\n",
       " '02_python_advance_code.ipynb',\n",
       " '03_exercise_01.ipynb',\n",
       " '04_exercise_02.ipynb',\n",
       " 'myfile.txt',\n",
       " 'mymodule.py',\n",
       " 'PTDL-02-Python Programming.ipynb']"
      ]
     },
     "execution_count": 79,
     "metadata": {},
     "output_type": "execute_result"
    }
   ],
   "source": [
    "os.listdir(cwd)"
   ]
  },
  {
   "cell_type": "code",
   "execution_count": null,
   "id": "aeae90cd-16af-4910-8c69-f25bc070e6a0",
   "metadata": {},
   "outputs": [],
   "source": [
    "path = os.path.join(cwd, 'lesson2')\n",
    "print(path)\n",
    "os.listdir(path)"
   ]
  },
  {
   "cell_type": "markdown",
   "id": "ba578a39-5daf-4e0a-883a-3b6230844afe",
   "metadata": {},
   "source": [
    "### From google.colab import files"
   ]
  },
  {
   "cell_type": "code",
   "execution_count": null,
   "id": "db284b3d-7df0-4562-813c-8c60fa0fccf8",
   "metadata": {},
   "outputs": [],
   "source": [
    "from google.colab import files\n",
    "with open('io_file_myday.txt', 'w') as f:\n",
    "    f.write('Google Colab File Write Text some content Myday')\n",
    "import time\n",
    "time.sleep(1) # time sleep 1 second\n",
    "files.download('io_file_myday.txt')\n",
    "print('downloaded')"
   ]
  },
  {
   "cell_type": "code",
   "execution_count": null,
   "id": "77bbef96-bc9e-4456-91a7-5a94d6b2f2c8",
   "metadata": {},
   "outputs": [],
   "source": [
    "from google.colab import files\n",
    "uploaded = files.upload()\n",
    "\n",
    "for fn in uploaded.keys():\n",
    "\n",
    "print('User uploaded file \"{name}\"\n",
    "\n",
    "with length {length} bytes'.format(\n",
    "name=fn, length=len(uploaded[fn])))"
   ]
  },
  {
   "cell_type": "markdown",
   "id": "77578b82-51da-4292-8507-95452e307449",
   "metadata": {},
   "source": [
    "### os.remove()"
   ]
  },
  {
   "cell_type": "code",
   "execution_count": 87,
   "id": "dad93ed2-e9bd-4e33-8372-58f2b55d9002",
   "metadata": {},
   "outputs": [
    {
     "name": "stdout",
     "output_type": "stream",
     "text": [
      "myfile.txt removed\n"
     ]
    }
   ],
   "source": [
    "import os\n",
    "if os.path.exists(\"myfile.txt\"):\n",
    "    os.remove(\"myfile.txt\")\n",
    "    print(\"myfile.txt removed\")\n",
    "else:\n",
    "    print(\"The file does not exist\")"
   ]
  },
  {
   "cell_type": "code",
   "execution_count": 88,
   "id": "1ab919b6-3c54-4ad4-9cd5-52cbec1fb035",
   "metadata": {},
   "outputs": [
    {
     "data": {
      "text/plain": [
       "['.ipynb_checkpoints',\n",
       " '01_python_basic_code.ipynb',\n",
       " '02_python_advance_code.ipynb',\n",
       " '03_exercise_01.ipynb',\n",
       " '04_exercise_02.ipynb',\n",
       " 'mymodule.py',\n",
       " 'PTDL-02-Python Programming.ipynb']"
      ]
     },
     "execution_count": 88,
     "metadata": {},
     "output_type": "execute_result"
    }
   ],
   "source": [
    "import os\n",
    "os.listdir()\n",
    "os.mkdir(\"myfolder1\")\n",
    "os.listdir()\n",
    "os.rmdir(\"myfolder1\")\n",
    "os.listdir()"
   ]
  },
  {
   "cell_type": "markdown",
   "id": "0b1ef34b-5e7b-4543-b947-187c89a9e5d6",
   "metadata": {},
   "source": [
    "### Python Try Except (Exception Handling)"
   ]
  },
  {
   "cell_type": "code",
   "execution_count": 89,
   "id": "0bfe8741-8f45-4c6e-bd03-09b7517fd964",
   "metadata": {},
   "outputs": [
    {
     "name": "stdout",
     "output_type": "stream",
     "text": [
      "(10, 20, 30, 40, 50)\n"
     ]
    }
   ],
   "source": [
    "try:\n",
    "    print(x)\n",
    "except:\n",
    "    print(\"Exception Error\")"
   ]
  },
  {
   "cell_type": "markdown",
   "id": "c41c35dc-73e2-4206-9f0f-2ad038cf974c",
   "metadata": {},
   "source": [
    "### Python try: except: finally:"
   ]
  },
  {
   "cell_type": "code",
   "execution_count": 90,
   "id": "09cc8182-c168-478d-8338-581de96eb8f1",
   "metadata": {},
   "outputs": [
    {
     "name": "stdout",
     "output_type": "stream",
     "text": [
      "Hello\n",
      "Finally process\n"
     ]
    }
   ],
   "source": [
    "try:\n",
    "    print(\"Hello\")\n",
    "except:\n",
    "    print(\"Exception Error\")\n",
    "finally:\n",
    "    print(\"Finally process\")"
   ]
  },
  {
   "cell_type": "markdown",
   "id": "89973f9c-e47c-4d03-bf2b-351af06d649e",
   "metadata": {},
   "source": [
    "### Python try: except: else:"
   ]
  },
  {
   "cell_type": "code",
   "execution_count": 91,
   "id": "e2ff6863-eb6d-44f5-96d2-5dd07d8e13d6",
   "metadata": {},
   "outputs": [
    {
     "name": "stdout",
     "output_type": "stream",
     "text": [
      "Hello\n",
      "No exception\n"
     ]
    }
   ],
   "source": [
    "try:\n",
    "    print(\"Hello\")\n",
    "except:\n",
    "    print(\"Exception Error\")\n",
    "else:\n",
    "    print(\"No exception\")"
   ]
  },
  {
   "cell_type": "markdown",
   "id": "b602db55-2a98-4328-b7fa-0c343d5bfa55",
   "metadata": {},
   "source": [
    "### Python try: except: else: finally:"
   ]
  },
  {
   "cell_type": "code",
   "execution_count": 92,
   "id": "3a2e261f-db7d-4d77-a05a-f60d8df962e8",
   "metadata": {},
   "outputs": [
    {
     "name": "stdout",
     "output_type": "stream",
     "text": [
      "Hello\n",
      "No exception\n",
      "Finally process\n"
     ]
    }
   ],
   "source": [
    "try:\n",
    "    print(\"Hello\")\n",
    "except:\n",
    "    print(\"Exception Error\")\n",
    "else:\n",
    "    print(\"No exception\")\n",
    "finally:\n",
    "    print(\"Finally process\")"
   ]
  },
  {
   "cell_type": "code",
   "execution_count": 93,
   "id": "54fccd78-a77f-4a93-ada6-6e1b5256518a",
   "metadata": {},
   "outputs": [
    {
     "name": "stdin",
     "output_type": "stream",
     "text": [
      "Enter the price of the stock (e.g. 10): 10\n",
      "Enter the number of shares (e.g. 2): 2\n"
     ]
    },
    {
     "name": "stdout",
     "output_type": "stream",
     "text": [
      "The total value of the shares is: 20.0\n",
      "Thank you.\n"
     ]
    }
   ],
   "source": [
    "try:\n",
    "    price = float(input(\"Enter the price of the stock (e.g. 10):\"))\n",
    "    shares = int(input(\"Enter the number of shares (e.g. 2):\"))\n",
    "    total = price * shares\n",
    "except Exception as e:\n",
    "    print(\"Exception error:\", str(e))\n",
    "else:\n",
    "    print(\"The total value of the shares is:\", total)\n",
    "finally:\n",
    "    print(\"Thank you.\")"
   ]
  },
  {
   "cell_type": "code",
   "execution_count": 94,
   "id": "47fdfb8d-b36f-4127-97b8-7a26a2c0b88b",
   "metadata": {},
   "outputs": [
    {
     "name": "stdout",
     "output_type": "stream",
     "text": [
      "Exception file Error\n"
     ]
    }
   ],
   "source": [
    "try:\n",
    "    file = open(\"myfile.txt\")\n",
    "    file.write(\"Python write file\")\n",
    "    print(\"file saved\")\n",
    "except:\n",
    "    print(\"Exception file Error\")"
   ]
  },
  {
   "cell_type": "code",
   "execution_count": 95,
   "id": "f8e99881-6e13-4a19-9632-388f6b8a3db6",
   "metadata": {},
   "outputs": [
    {
     "name": "stdout",
     "output_type": "stream",
     "text": [
      "Exception file Error\n",
      "Finally process\n"
     ]
    }
   ],
   "source": [
    "try:\n",
    "    file = open(\"myfile.txt\")\n",
    "    file.write(\"Python write file\")\n",
    "    print(\"file saved\")\n",
    "except:\n",
    "    print(\"Exception file Error\")\n",
    "finally:\n",
    "    file.close()\n",
    "    print(\"Finally process\")"
   ]
  },
  {
   "cell_type": "code",
   "execution_count": 97,
   "id": "1724ca1b-0d1c-43ef-81f2-08939be8c82f",
   "metadata": {},
   "outputs": [
    {
     "name": "stdout",
     "output_type": "stream",
     "text": [
      "file saved\n",
      "Finally process\n"
     ]
    }
   ],
   "source": [
    "try:\n",
    "    file = open(\"myfile.txt\", 'w')\n",
    "    file.write(\"Python write file\")\n",
    "    print(\"file saved\")\n",
    "except:\n",
    "    print(\"Exception file Error\")\n",
    "finally:\n",
    "    file.close()\n",
    "    print(\"Finally process\")"
   ]
  },
  {
   "cell_type": "markdown",
   "id": "fe92bf47-cc21-418b-984a-e88484de540f",
   "metadata": {},
   "source": [
    "# THANKS FOR YOUR ATTENTION!"
   ]
  },
  {
   "cell_type": "code",
   "execution_count": null,
   "id": "868ed5b2-a43c-479c-b7e8-55f3488dc37a",
   "metadata": {},
   "outputs": [],
   "source": []
  }
 ],
 "metadata": {
  "kernelspec": {
   "display_name": "Python 3 (ipykernel)",
   "language": "python",
   "name": "python3"
  },
  "language_info": {
   "codemirror_mode": {
    "name": "ipython",
    "version": 3
   },
   "file_extension": ".py",
   "mimetype": "text/x-python",
   "name": "python",
   "nbconvert_exporter": "python",
   "pygments_lexer": "ipython3",
   "version": "3.13.5"
  }
 },
 "nbformat": 4,
 "nbformat_minor": 5
}
