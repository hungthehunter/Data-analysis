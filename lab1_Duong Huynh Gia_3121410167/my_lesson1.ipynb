{
 "cells": [
  {
   "cell_type": "markdown",
   "id": "1aab4813-3233-490b-a4ef-cdc2d35d3c0a",
   "metadata": {
    "tags": []
   },
   "source": [
    "# Thuc hanh tri tue nhan tao Buoi 1\n",
    "## Noi dung thuc hanh"
   ]
  },
  {
   "cell_type": "markdown",
   "id": "6f21ee5a-4756-4add-bc7f-3d52c962ba93",
   "metadata": {},
   "source": [
    "### In chu ra man hinh"
   ]
  },
  {
   "cell_type": "code",
   "execution_count": 2,
   "id": "d3d98c91-15fd-4cbf-ab6a-9e4eaf9f0a70",
   "metadata": {},
   "outputs": [
    {
     "name": "stdout",
     "output_type": "stream",
     "text": [
      "Hello, Python World!\n"
     ]
    }
   ],
   "source": [
    "# lenh 1 - xuat chu\n",
    "print(\"Hello, Python World!\")"
   ]
  },
  {
   "cell_type": "markdown",
   "id": "4a19cb0e-9cda-46e1-a012-f3943815d619",
   "metadata": {},
   "source": [
    "### chay tap tin python\n"
   ]
  },
  {
   "cell_type": "code",
   "execution_count": 3,
   "id": "773b7900-c08f-4791-ab3d-87de5812c13c",
   "metadata": {},
   "outputs": [
    {
     "name": "stdout",
     "output_type": "stream",
     "text": [
      "Hello, Python World!\n"
     ]
    }
   ],
   "source": [
    "!python ex0_hello_world.py"
   ]
  },
  {
   "cell_type": "code",
   "execution_count": 6,
   "id": "d836b0c2-5374-45c4-9e91-54359fcc1cfa",
   "metadata": {},
   "outputs": [
    {
     "name": "stdout",
     "output_type": "stream",
     "text": [
      "Hello, Python World!\n"
     ]
    }
   ],
   "source": [
    "%run ex0_hello_world.py"
   ]
  },
  {
   "cell_type": "markdown",
   "id": "dd33d4ae-695d-448e-82d3-075244fdc1f7",
   "metadata": {},
   "source": [
    "### chay tinh toan co ban\n"
   ]
  },
  {
   "cell_type": "code",
   "execution_count": 4,
   "id": "19fcfbe0-0062-4b8d-8642-f96657443731",
   "metadata": {},
   "outputs": [
    {
     "name": "stdout",
     "output_type": "stream",
     "text": [
      "Calculator Basic\n"
     ]
    },
    {
     "name": "stdin",
     "output_type": "stream",
     "text": [
      "Moi ban nhap so a:  10\n",
      "Moi ban nhap so b:  20\n"
     ]
    },
    {
     "name": "stdout",
     "output_type": "stream",
     "text": [
      "c = 10 + 20 = 30\n"
     ]
    }
   ],
   "source": [
    "%run ex1_calc.py"
   ]
  },
  {
   "cell_type": "code",
   "execution_count": 5,
   "id": "3312d72f-64f9-401a-9026-6922a9c0b1b7",
   "metadata": {},
   "outputs": [
    {
     "name": "stdout",
     "output_type": "stream",
     "text": [
      "Calculator Basic\n"
     ]
    },
    {
     "name": "stdin",
     "output_type": "stream",
     "text": [
      "Moi ban nhap so a:  10\n",
      "Moi ban nhap so b:  20\n"
     ]
    },
    {
     "name": "stdout",
     "output_type": "stream",
     "text": [
      "c = 10 + 20 = 30\n"
     ]
    }
   ],
   "source": [
    "print(\"Calculator Basic\")\n",
    "a = int(input(\"Moi ban nhap so a: \"))\n",
    "b = int(input(\"Moi ban nhap so b: \"))\n",
    "c = a + b\n",
    "print(\"c = %d + %d = %d\" % (a, b, c))"
   ]
  },
  {
   "cell_type": "markdown",
   "id": "a89b71cb-4f1d-4b32-be61-ceeb17adcfa1",
   "metadata": {},
   "source": [
    "### tinh cv dt hinh tron\n"
   ]
  },
  {
   "cell_type": "code",
   "execution_count": 1,
   "id": "b2681e5b-f886-4e72-8a67-fb58d79387db",
   "metadata": {},
   "outputs": [
    {
     "name": "stdin",
     "output_type": "stream",
     "text": [
      "Nhập bán kính r:  4\n"
     ]
    },
    {
     "name": "stdout",
     "output_type": "stream",
     "text": [
      "Chu vi hình tròn: 25.13\n",
      "Diện tích hình tròn: 50.27\n"
     ]
    }
   ],
   "source": [
    "%run Bai7.py"
   ]
  },
  {
   "cell_type": "markdown",
   "id": "31eb9c03-7107-4a5a-965e-cb3aa0c7c35e",
   "metadata": {},
   "source": [
    "# Ket Thuc"
   ]
  },
  {
   "cell_type": "code",
   "execution_count": null,
   "id": "7adfa5a5-f0c7-428c-a7fa-3a0dda1c1407",
   "metadata": {},
   "outputs": [],
   "source": []
  }
 ],
 "metadata": {
  "kernelspec": {
   "display_name": "Python 3 (ipykernel)",
   "language": "python",
   "name": "python3"
  },
  "language_info": {
   "codemirror_mode": {
    "name": "ipython",
    "version": 3
   },
   "file_extension": ".py",
   "mimetype": "text/x-python",
   "name": "python",
   "nbconvert_exporter": "python",
   "pygments_lexer": "ipython3",
   "version": "3.13.5"
  }
 },
 "nbformat": 4,
 "nbformat_minor": 5
}
